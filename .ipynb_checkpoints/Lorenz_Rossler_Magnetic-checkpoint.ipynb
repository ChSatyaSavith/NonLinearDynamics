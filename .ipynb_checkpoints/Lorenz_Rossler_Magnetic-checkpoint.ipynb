{
 "cells": [
  {
   "cell_type": "code",
   "execution_count": 1,
   "id": "f98d463a",
   "metadata": {},
   "outputs": [
    {
     "name": "stderr",
     "output_type": "stream",
     "text": [
      "\u001b[32m\u001b[1m    Updating\u001b[22m\u001b[39m registry at `~/.julia/registries/General.toml`\n",
      "\u001b[32m\u001b[1m   Resolving\u001b[22m\u001b[39m package versions...\n",
      "\u001b[32m\u001b[1m  No Changes\u001b[22m\u001b[39m to `~/.julia/environments/v1.8/Project.toml`\n",
      "\u001b[32m\u001b[1m  No Changes\u001b[22m\u001b[39m to `~/.julia/environments/v1.8/Manifest.toml`\n",
      "\u001b[32m\u001b[1m   Resolving\u001b[22m\u001b[39m package versions...\n",
      "\u001b[32m\u001b[1m  No Changes\u001b[22m\u001b[39m to `~/.julia/environments/v1.8/Project.toml`\n",
      "\u001b[32m\u001b[1m  No Changes\u001b[22m\u001b[39m to `~/.julia/environments/v1.8/Manifest.toml`\n",
      "\u001b[32m\u001b[1m   Resolving\u001b[22m\u001b[39m package versions...\n",
      "\u001b[32m\u001b[1m  No Changes\u001b[22m\u001b[39m to `~/.julia/environments/v1.8/Project.toml`\n",
      "\u001b[32m\u001b[1m  No Changes\u001b[22m\u001b[39m to `~/.julia/environments/v1.8/Manifest.toml`\n",
      "\u001b[32m\u001b[1m   Resolving\u001b[22m\u001b[39m package versions...\n",
      "\u001b[32m\u001b[1m  No Changes\u001b[22m\u001b[39m to `~/.julia/environments/v1.8/Project.toml`\n",
      "\u001b[32m\u001b[1m  No Changes\u001b[22m\u001b[39m to `~/.julia/environments/v1.8/Manifest.toml`\n"
     ]
    }
   ],
   "source": [
    "#Installing Packages\n",
    "using Pkg\n",
    "Pkg.add(\"InteractiveDynamics\")\n",
    "Pkg.add(\"DynamicalSystems\")\n",
    "Pkg.add(\"DifferentialEquations\")\n",
    "Pkg.add(\"Plots\")"
   ]
  },
  {
   "cell_type": "code",
   "execution_count": null,
   "id": "4e2e573e",
   "metadata": {},
   "outputs": [],
   "source": [
    "#Importing Libraries\n",
    "using InteractiveDynamics, DynamicalSystems, DifferentialEquations, Plots"
   ]
  },
  {
   "cell_type": "markdown",
   "id": "15014dfc",
   "metadata": {},
   "source": [
    "\n",
    "### dx/dt=σ(y−x )\n",
    "### dy/dt=rx−y−xz \n",
    "### dz/dt=xy−bz "
   ]
  },
  {
   "cell_type": "code",
   "execution_count": null,
   "id": "8a12bf18",
   "metadata": {},
   "outputs": [],
   "source": [
    "function lorentz!(du,u,p,t)\n",
    "    x,y,z = u\n",
    "    sigma,rho,beta = p\n",
    "    \n",
    "    du[1] = sigma*(y - x)\n",
    "    du[2] = rho*x - y - x*z\n",
    "    du[3] = x*y - beta*z\n",
    "    \n",
    "    return nothing\n",
    "end"
   ]
  },
  {
   "cell_type": "code",
   "execution_count": null,
   "id": "88bd4e39",
   "metadata": {},
   "outputs": [],
   "source": [
    "initial = [1.0,0.0,0.0]\n",
    "parameters = [10.0,28.0,8/3]\n",
    "time_span = (0.0,100.0)\n",
    "\n",
    "prob = ODEProblem(lorentz!,initial,time_span,parameters)\n",
    "sol = solve(prob,Euler(),dt=0.001)"
   ]
  },
  {
   "cell_type": "code",
   "execution_count": null,
   "id": "e1e9ca89",
   "metadata": {},
   "outputs": [],
   "source": [
    "plot(sol, idxs=(1,2,3), xlabel=\"x\", ylabel=\"y\", zlabel=\"z\", title=\"Lorenz Attractor\", lw=0.1, color=:redsblues)"
   ]
  },
  {
   "cell_type": "code",
   "execution_count": null,
   "id": "d303e273",
   "metadata": {},
   "outputs": [],
   "source": [
    "Base.@kwdef mutable struct Lorenz\n",
    "    dt::Float64 = 0.02\n",
    "    σ::Float64 = 10\n",
    "    ρ::Float64 = 28\n",
    "    β::Float64 = 8/3\n",
    "    x::Float64 = 1\n",
    "    y::Float64 = 1\n",
    "    z::Float64 = 1\n",
    "end\n",
    "\n",
    "function step!(l::Lorenz)\n",
    "    dx = l.σ * (l.y - l.x)\n",
    "    dy = l.x * (l.ρ - l.z) - l.y\n",
    "    dz = l.x * l.y - l.β * l.z\n",
    "    l.x += l.dt * dx\n",
    "    l.y += l.dt * dy\n",
    "    l.z += l.dt * dz\n",
    "end\n",
    "\n",
    "attractor = Lorenz()\n",
    "\n",
    "plt = plot3d(\n",
    "    1,\n",
    "    xlim = (-30, 30),\n",
    "    ylim = (-30, 30),\n",
    "    zlim = (0, 60),\n",
    "    title = \"Lorenz Attractor\",\n",
    "    legend = false,\n",
    "    marker = 2,\n",
    ")\n",
    "\n",
    "anim = @animate for i=1:5000   \n",
    "    step!(attractor)\n",
    "    push!(plt, attractor.x, attractor.y, attractor.z)\n",
    "end every 10\n",
    "gif(anim,\"lorenzAnimation.gif\",fps=60)"
   ]
  },
  {
   "cell_type": "code",
   "execution_count": null,
   "id": "1c221689",
   "metadata": {},
   "outputs": [],
   "source": [
    "function rossler!(du,u,p,t)\n",
    "    x,y,z = u\n",
    "    a,b,c = p\n",
    "    \n",
    "    du[1] = -y - z\n",
    "    du[2] = x + a*y\n",
    "    du[3] = b + z*(x-c)\n",
    "    return nothing\n",
    "end"
   ]
  },
  {
   "cell_type": "code",
   "execution_count": null,
   "id": "2cdac638",
   "metadata": {},
   "outputs": [],
   "source": [
    "initial = [1.0,0.0,0.0]\n",
    "parameters = [0.2,0.2,5.7]\n",
    "time_span = (0.0,100.0)\n",
    "\n",
    "prob = ODEProblem(rossler!,initial,time_span,parameters)\n",
    "sol = solve(prob,Euler(),dt=0.001)"
   ]
  },
  {
   "cell_type": "code",
   "execution_count": null,
   "id": "161cffae",
   "metadata": {},
   "outputs": [],
   "source": [
    "plot(sol, idxs=(1,2,3), xlabel=\"x\", ylabel=\"y\", zlabel=\"z\", title=\"Rossler Attractor\", lw=0.3, color=:redsblues)"
   ]
  },
  {
   "cell_type": "code",
   "execution_count": null,
   "id": "3f9f9012",
   "metadata": {},
   "outputs": [],
   "source": [
    "function rossler!(du,u,p,t)\n",
    "    x,y,z = u\n",
    "    a,v = p\n",
    "    \n",
    "    du[1] = -v*x + z*y\n",
    "    du[2] = -v*y + (z-a)*x\n",
    "    du[3] = 1 - x*y\n",
    "    return nothing\n",
    "end"
   ]
  },
  {
   "cell_type": "code",
   "execution_count": null,
   "id": "7da97226",
   "metadata": {},
   "outputs": [],
   "source": [
    "initial = [1.0,0.0,0.0]\n",
    "parameters = [0.2,0.3]\n",
    "time_span = (0.0,100.0)\n",
    "\n",
    "prob = ODEProblem(rossler!,initial,time_span,parameters)\n",
    "sol = solve(prob,Tsit5())"
   ]
  },
  {
   "cell_type": "code",
   "execution_count": null,
   "id": "5903a835",
   "metadata": {},
   "outputs": [],
   "source": [
    "plot(sol, idxs=(1,2,3), xlabel=\"x\", ylabel=\"y\", zlabel=\"z\", title=\"Bruh Attractor\", lw=0.3, color=:redsblues)"
   ]
  },
  {
   "cell_type": "code",
   "execution_count": null,
   "id": "abe2298f",
   "metadata": {},
   "outputs": [],
   "source": []
  }
 ],
 "metadata": {
  "kernelspec": {
   "display_name": "Julia 1.8.1",
   "language": "julia",
   "name": "julia-1.8"
  },
  "language_info": {
   "file_extension": ".jl",
   "mimetype": "application/julia",
   "name": "julia",
   "version": "1.8.1"
  }
 },
 "nbformat": 4,
 "nbformat_minor": 5
}
