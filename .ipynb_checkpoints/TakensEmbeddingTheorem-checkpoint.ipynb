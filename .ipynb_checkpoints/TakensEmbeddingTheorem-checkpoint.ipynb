{
 "cells": [
  {
   "cell_type": "code",
   "execution_count": null,
   "id": "fa45d7f4",
   "metadata": {},
   "outputs": [],
   "source": [
    "#Installing Packages\n",
    "using Pkg\n",
    "Pkg.add(\"InteractiveDynamics\")\n",
    "Pkg.add(\"DynamicalSystems\")\n",
    "Pkg.add(\"DifferentialEquations\")\n",
    "Pkg.add(\"Plots\")"
   ]
  },
  {
   "cell_type": "code",
   "execution_count": null,
   "id": "2cb5fe4c",
   "metadata": {},
   "outputs": [],
   "source": [
    "#Importing Libraries\n",
    "using InteractiveDynamics, DynamicalSystems, DifferentialEquations, Plots"
   ]
  },
  {
   "cell_type": "markdown",
   "id": "a5911238",
   "metadata": {},
   "source": [
    "# The Lorenz Differential Equations\n",
    "The Lorenz system is a system of ordinary differential equations first studied by mathematician and meteorologist Edward Lorenz. It is notable for having chaotic solutions for certain parameter values and initial conditions. In particular, the Lorenz attractor is a set of chaotic solutions of the Lorenz system.\n",
    "\n",
    "$$\n",
    "\\begin{aligned}\n",
    "\\dot{x} & = \\sigma(y-x) \\\\\n",
    "\\dot{y} & = \\rho x - y - xz \\\\\n",
    "\\dot{z} & = -\\beta z + xy\n",
    "\\end{aligned}\n",
    "$$"
   ]
  },
  {
   "cell_type": "code",
   "execution_count": null,
   "id": "1067f63a",
   "metadata": {},
   "outputs": [],
   "source": [
    "#Defining the Lorenz Differential Equations\n",
    "function lorentz!(du,u,p,t)\n",
    "    x,y,z = u\n",
    "    sigma,rho,beta = p\n",
    "    \n",
    "    du[1] = sigma*(y - x)\n",
    "    du[2] = rho*x - y - x*z\n",
    "    du[3] = x*y - beta*z\n",
    "    \n",
    "    return nothing\n",
    "end"
   ]
  },
  {
   "cell_type": "code",
   "execution_count": null,
   "id": "49111222",
   "metadata": {},
   "outputs": [],
   "source": [
    "initial = [1.0,0.0,0.0] #Initial Conditions\n",
    "parameters = [10.0,28.0,8/3] #value of sigma, rho and beta\n",
    "time_span = (0.0,100.0) #Time span of the equations\n",
    "\n",
    "prob = ODEProblem(lorentz!,initial,time_span,parameters) #Defining the ODE\n",
    "sol = solve(prob) #Solving the ODE"
   ]
  },
  {
   "cell_type": "markdown",
   "id": "0c13eabb",
   "metadata": {},
   "source": [
    "# Taken's Theorem (1981)\n",
    "\n",
    "Using the Taken's Theorem we can embed the time series we have available into a phase space where we do not have a temporal dependence between our data points anymore. This is important because the Statistical Learning Theory only guarantees the learning of an algorithm if the samples (rows or data instances) of our dataset are independent from each other.\n",
    "\n",
    "In order to define this embedding, we need two hyperparameters named d and m which are the time delay and the embedding dimension respectively. The time delay defines how many data points, previously to the actual one, we will use on the embedding. The dimension will define the final shape of our dataset and how many axies there are in the phase space, each axis representing a time delay.\n",
    "\n",
    "With those two parameters, given a time series $f(t)$, we will have its embedding as:\n",
    "\n",
    "$$\n",
    "\\begin{matrix}\n",
    "f(t) & f(t + d) & \\dots & f(t + (m-1)d)\\\\\n",
    "f(t+1) & f(t + d + 1) & \\dots & f(t + (m-1)d + 1)\\\\\n",
    "f(t+2) & f(t + d + 2) & \\dots & f(t + (m-1)d) + 2)\\\\\n",
    "\\dots & \\dots & \\dots & \\\\\n",
    "f(t+(m-1)) & f(t + d + (m -1)) & \\dots &  f(t + (m-1)d + (m-1))\n",
    "\\end{matrix}\n",
    "$$\n",
    "\n",
    "The idea is that if the series is deterministic enough, then this embedding will generate an attractor on the phase space and we will able to forecast the time series."
   ]
  },
  {
   "cell_type": "code",
   "execution_count": null,
   "id": "ee051cd7",
   "metadata": {},
   "outputs": [],
   "source": [
    "# Extract time series of x variable\n",
    "x = sol[1,:]\n",
    "\n",
    "# Embedding parameters\n",
    "m = 3   # embedding dimension\n",
    "τ = 1   # time delay\n",
    "\n",
    "N = length(x) - (m-1)*τ\n",
    "X = zeros(m, N)\n",
    "for i in 1:N\n",
    "    for j in 1:m\n",
    "        X[j,i] = x[i + (j-1)*τ]\n",
    "    end\n",
    "end\n",
    "\n",
    "# Plot reconstructed phase space\n",
    "scatter(X[1,:], X[2,:], X[3,:], markersize=1, xlabel=\"x\", ylabel=\"y\", zlabel=\"z\", legend=false)"
   ]
  }
 ],
 "metadata": {
  "kernelspec": {
   "display_name": "Julia 1.8.1",
   "language": "julia",
   "name": "julia-1.8"
  },
  "language_info": {
   "file_extension": ".jl",
   "mimetype": "application/julia",
   "name": "julia",
   "version": "1.8.1"
  }
 },
 "nbformat": 4,
 "nbformat_minor": 5
}
