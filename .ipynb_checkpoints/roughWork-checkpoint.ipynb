{
 "cells": [
  {
   "cell_type": "code",
   "execution_count": 1,
   "id": "747250f5",
   "metadata": {},
   "outputs": [
    {
     "name": "stdout",
     "output_type": "stream",
     "text": [
      "Defaulting to user installation because normal site-packages is not writeable\n",
      "Collecting deeptime\n",
      "  Downloading deeptime-0.4.4-cp310-cp310-manylinux_2_17_x86_64.manylinux2014_x86_64.whl (2.1 MB)\n",
      "\u001b[2K     \u001b[38;2;114;156;31m━━━━━━━━━━━━━━━━━━━━━━━━━━━━━━━━━━━━━━━━\u001b[0m \u001b[32m2.1/2.1 MB\u001b[0m \u001b[31m1.7 MB/s\u001b[0m eta \u001b[36m0:00:00\u001b[0m[36m0:00:01\u001b[0m[36m0:00:01\u001b[0m:01\u001b[0m\n",
      "\u001b[?25hCollecting scipy>=1.9.0\n",
      "  Using cached scipy-1.10.1-cp310-cp310-manylinux_2_17_x86_64.manylinux2014_x86_64.whl (34.4 MB)\n",
      "Requirement already satisfied: numpy>=1.20 in /usr/lib/python3/dist-packages (from deeptime) (1.21.5)\n",
      "Collecting scikit-learn>=1.1\n",
      "  Using cached scikit_learn-1.2.2-cp310-cp310-manylinux_2_17_x86_64.manylinux2014_x86_64.whl (9.6 MB)\n",
      "Requirement already satisfied: threadpoolctl>=3.1.0 in /home/past/.local/lib/python3.10/site-packages (from deeptime) (3.1.0)\n",
      "Requirement already satisfied: joblib>=1.1.1 in /home/past/.local/lib/python3.10/site-packages (from scikit-learn>=1.1->deeptime) (1.2.0)\n",
      "Installing collected packages: scipy, scikit-learn, deeptime\n",
      "\u001b[31mERROR: pip's dependency resolver does not currently take into account all the packages that are installed. This behaviour is the source of the following dependency conflicts.\n",
      "tf-models-official 2.11.3 requires opencv-python-headless, which is not installed.\n",
      "easyocr 1.6.2 requires opencv-python-headless<=4.5.4.60, which is not installed.\u001b[0m\u001b[31m\n",
      "\u001b[0mSuccessfully installed deeptime-0.4.4 scikit-learn-1.2.2 scipy-1.10.1\n"
     ]
    }
   ],
   "source": [
    "!pip install deeptime"
   ]
  },
  {
   "cell_type": "code",
   "execution_count": 4,
   "id": "e2e31d8d",
   "metadata": {},
   "outputs": [],
   "source": [
    "import numpy as np"
   ]
  },
  {
   "cell_type": "code",
   "execution_count": 5,
   "id": "d84e377a",
   "metadata": {},
   "outputs": [],
   "source": [
    "t = np.linspace(0, 1, 100)\n",
    "x = 3 * np.exp(-2 * t)\n",
    "y = 0.5 * np.exp(t)\n",
    "X = np.stack((x, y), axis=-1)  # First column is x, second is y"
   ]
  },
  {
   "cell_type": "code",
   "execution_count": 6,
   "id": "1229c913",
   "metadata": {},
   "outputs": [],
   "source": [
    "from sklearn.preprocessing import PolynomialFeatures\n",
    "from deeptime.sindy import STLSQ\n",
    "\n",
    "library = PolynomialFeatures(degree=3)\n",
    "\n",
    "optimizer = STLSQ(threshold=0.2)"
   ]
  },
  {
   "cell_type": "code",
   "execution_count": 7,
   "id": "875ae5b4",
   "metadata": {},
   "outputs": [],
   "source": [
    "from deeptime.sindy import SINDy\n",
    "\n",
    "# Instantiate the estimator\n",
    "estimator = SINDy(\n",
    "    library=library,\n",
    "    optimizer=optimizer,\n",
    "    input_features=[\"x\", \"y\"]  # The feature names are just for printing\n",
    ")\n",
    "\n",
    "# Fit the estimator to data\n",
    "estimator.fit(X, t=t);"
   ]
  },
  {
   "cell_type": "code",
   "execution_count": 8,
   "id": "dcb7f199",
   "metadata": {},
   "outputs": [],
   "source": [
    "model = estimator.fetch_model();"
   ]
  },
  {
   "cell_type": "code",
   "execution_count": 9,
   "id": "9c4cc722",
   "metadata": {},
   "outputs": [
    {
     "name": "stdout",
     "output_type": "stream",
     "text": [
      "x' = -1.999 x\n",
      "y' = 0.999 y\n"
     ]
    }
   ],
   "source": [
    "model.print()"
   ]
  },
  {
   "cell_type": "code",
   "execution_count": 10,
   "id": "3bbe3a36",
   "metadata": {},
   "outputs": [],
   "source": [
    "x0 = 6\n",
    "y0 = -0.1\n",
    "\n",
    "t_test = np.linspace(0, 1, 100)\n",
    "x_test = x0 * np.exp(-2 * t_test)\n",
    "y_test = y0 * np.exp(t_test)\n",
    "\n",
    "sim = model.simulate([x0, y0], t=t_test)"
   ]
  },
  {
   "cell_type": "code",
   "execution_count": 11,
   "id": "733d14fa",
   "metadata": {},
   "outputs": [
    {
     "data": {
      "image/png": "[encoded data removed]",
      "text/plain": [
       "<Figure size 360x360 with 1 Axes>"
      ]
     },
     "metadata": {
      "needs_background": "light"
     },
     "output_type": "display_data"
    }
   ],
   "source": [
    "import matplotlib.pyplot as plt\n",
    "\n",
    "fig, ax = plt.subplots(1, 1, figsize=(5, 5))\n",
    "ax.plot(x0, y0, \"ro\", label=\"Initial condition\", alpha=0.6, markersize=8)\n",
    "ax.plot(x_test, y_test, \"b\", label=\"Exact solution\", alpha=0.4, linewidth=4)\n",
    "ax.plot(sim[:, 0], sim[:, 1], \"k--\", label=\"SINDy model\", linewidth=3)\n",
    "ax.set(xlabel=\"x\", ylabel=\"y\")\n",
    "ax.legend();"
   ]
  },
  {
   "cell_type": "code",
   "execution_count": null,
   "id": "14a5ec90",
   "metadata": {},
   "outputs": [],
   "source": []
  }
 ],
 "metadata": {
  "kernelspec": {
   "display_name": "Python 3 (ipykernel)",
   "language": "python",
   "name": "python3"
  },
  "language_info": {
   "codemirror_mode": {
    "name": "ipython",
    "version": 3
   },
   "file_extension": ".py",
   "mimetype": "text/x-python",
   "name": "python",
   "nbconvert_exporter": "python",
   "pygments_lexer": "ipython3",
   "version": "3.10.6"
  }
 },
 "nbformat": 4,
 "nbformat_minor": 5
}
