{
 "cells": [
  {
   "cell_type": "code",
   "execution_count": 1,
   "id": "a5c34237",
   "metadata": {},
   "outputs": [
    {
     "name": "stdout",
     "output_type": "stream",
     "text": [
      "  0.056093 seconds\n"
     ]
    }
   ],
   "source": [
    "#Using the Borwein’s algorithm with quadratic convergence to the approximation of pi\n",
    "#we try to approximate pi to roughly 10 million digits\n",
    "function pi_calc(n)\n",
    "    a0 = 2^0.5\n",
    "    b0 = 0\n",
    "    p0 = 2 + 2^0.5\n",
    "    for i in 1:n\n",
    "    a1 = (a0 + a0^-0.5)/2.0\n",
    "    b1 = ((1 + b0)*(a0^0.5))/(a0 + b0)\n",
    "    p1 = ((1 + a1)*p0*b1)/(1 + b1)\n",
    "    a0 = a1\n",
    "    b0 = b1\n",
    "    p0 = p1\n",
    "    end\n",
    "end\n",
    "@time pi_calc(10^7)"
   ]
  },
  {
   "cell_type": "code",
   "execution_count": 8,
   "id": "f4ef5ae8",
   "metadata": {},
   "outputs": [
    {
     "name": "stdout",
     "output_type": "stream",
     "text": [
      "  4.240779 seconds (2 allocations: 3.815 MiB)\n"
     ]
    },
    {
     "data": {
      "text/plain": [
       "(-0.74877:5.005005005005005e-8:-0.74872, 0.06505:5.005005005005005e-8:0.0651, Float32[204.0 204.0 … 355.0 316.0; 204.0 204.0 … 340.0 323.0; … ; 220.0 221.0 … 257.0 257.0; 220.0 222.0 … 257.0 257.0])"
      ]
     },
     "execution_count": 8,
     "metadata": {},
     "output_type": "execute_result"
    }
   ],
   "source": [
    "# The Mandelbrot Set is a mathematical object known as a fractal which converges upon itself\n",
    "# indefinitely. It is often used to benchmark programming languages for their performance as it\n",
    "# involves non-trivial operations with the complex number space and high precision calculations.\n",
    "function mandelbrot(c,maxiter)\n",
    "    z = c\n",
    "    for n in 1:maxiter\n",
    "        if abs(z) > 2\n",
    "            return n\n",
    "        end\n",
    "        z = z*z + c\n",
    "    end\n",
    "    return 0\n",
    "end\n",
    "\n",
    "function mandelbrot_set(xmin = -0.74877,\n",
    "    xmax = -0.74872,\n",
    "    ymin = 0.06505,\n",
    "    ymax = 0.06510,\n",
    "    width = 1000,\n",
    "    height = 1000,\n",
    "    maxiter = 2048)\n",
    "    r1 = range(xmin,stop=xmax,length=width)\n",
    "    r2 = range(ymin,stop=ymax,length=height)\n",
    "    n3 = zeros(Float32, width,height)\n",
    "    for i in 1:width\n",
    "        for j in 1:height\n",
    "            n3[i,j] = mandelbrot(r1[i] + r2[j]im, maxiter)\n",
    "        end\n",
    "    end\n",
    "    return (r1,r2,n3)\n",
    "end\n",
    "@time mandelbrot_set()"
   ]
  }
 ],
 "metadata": {
  "kernelspec": {
   "display_name": "Julia 1.8.1",
   "language": "julia",
   "name": "julia-1.8"
  },
  "language_info": {
   "file_extension": ".jl",
   "mimetype": "application/julia",
   "name": "julia",
   "version": "1.8.1"
  }
 },
 "nbformat": 4,
 "nbformat_minor": 5
}
