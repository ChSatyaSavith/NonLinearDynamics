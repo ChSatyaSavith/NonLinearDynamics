{
 "cells": [
  {
   "cell_type": "code",
   "execution_count": 4,
   "id": "a97488b5",
   "metadata": {},
   "outputs": [
    {
     "name": "stdout",
     "output_type": "stream",
     "text": [
      "2.1438556269999935\n"
     ]
    }
   ],
   "source": [
    "#Using the Borwein’s algorithm with quadratic convergence to the approximation of pi\n",
    "#we try to approximate pi to roughly 10 million digits\n",
    "import time, timeit\n",
    "def pi_calc(n = 10**7):\n",
    "    a0 = 2**0.5\n",
    "    b0 = 0\n",
    "    p0 = 2 + 2**0.5\n",
    "    for i in range(n):\n",
    "        a1 = (a0 + a0**-0.5)/2.0\n",
    "        b1 = ((1 + b0)*(a0**0.5))/(a0 + b0)\n",
    "        p1 = ((1 + a1)*p0*b1)/(1 + b1)\n",
    "        a0 = a1\n",
    "        b0 = b1\n",
    "        p0 = p1\n",
    "print(timeit.timeit(pi_calc, number = 1))"
   ]
  },
  {
   "cell_type": "code",
   "execution_count": 9,
   "id": "0ad498de",
   "metadata": {},
   "outputs": [
    {
     "name": "stdout",
     "output_type": "stream",
     "text": [
      "177.74392285099998\n"
     ]
    }
   ],
   "source": [
    "# The Mandelbrot Set is a mathematical object known as a fractal which converges upon itself\n",
    "# indefinitely. It is often used to benchmark programming languages for their performance as it\n",
    "# involves non-trivial operations with the complex number space and high precision calculations.\n",
    "import numpy as np\n",
    "def mandelbrot(c,maxiter):\n",
    "    z = c\n",
    "    for n in range(maxiter):\n",
    "        if abs(z) > 2:\n",
    "            return n\n",
    "        z = z*z + c\n",
    "    return 0\n",
    "\n",
    "def mandelbrot_set(xmin = -0.74877,\n",
    "    xmax = -0.74872,\n",
    "    ymin = 0.06505,\n",
    "    ymax = 0.06510,\n",
    "    width = 1000,\n",
    "    height = 1000,\n",
    "    maxiter = 2048):\n",
    "    r1 = np.linspace(xmin, xmax, width)\n",
    "    r2 = np.linspace(ymin, ymax, height)\n",
    "    n3 = np.empty((width,height))\n",
    "    start = time.time()\n",
    "    for i in range(width):\n",
    "        for j in range(height):\n",
    "            n3[i,j] = mandelbrot(r1[i] + 1j*r2[j],maxiter)\n",
    "    return (r1,r2,n3)\n",
    "print(timeit.timeit(mandelbrot_set, number = 1))"
   ]
  }
 ],
 "metadata": {
  "kernelspec": {
   "display_name": "Python 3 (ipykernel)",
   "language": "python",
   "name": "python3"
  },
  "language_info": {
   "codemirror_mode": {
    "name": "ipython",
    "version": 3
   },
   "file_extension": ".py",
   "mimetype": "text/x-python",
   "name": "python",
   "nbconvert_exporter": "python",
   "pygments_lexer": "ipython3",
   "version": "3.10.6"
  }
 },
 "nbformat": 4,
 "nbformat_minor": 5
}
